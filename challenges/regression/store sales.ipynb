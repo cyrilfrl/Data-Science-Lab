{
 "cells": [
  {
   "cell_type": "markdown",
   "metadata": {},
   "source": [
    "Based on https://www.kaggle.com/competitions/store-sales-time-series-forecasting"
   ]
  },
  {
   "cell_type": "markdown",
   "metadata": {},
   "source": [
    "As a novice in applied data science, I believe that learning from peers is crucial. However, it is even more essential to acknowledge and cite the individuals and sources that have influenced my journey. Below are the references for the current notebook: <br>"
   ]
  },
  {
   "cell_type": "code",
   "execution_count": null,
   "metadata": {},
   "outputs": [],
   "source": [
    "https://www.kaggle.com/learn/time-series\n",
    "https://www.youtube.com/watch?v=vV12dGe_Fho&ab_channel=RobMulla\n",
    "https://www.youtube.com/watch?v=j0eioK5edqg&list=PL7RwtdVQXQ8o6CYe1Teo7FzkrQQoT0c9i&index=10\n",
    "https://www.youtube.com/watch?v=95l9qkPulFA&ab_channel=YanAITalk\n",
    "https://www.youtube.com/watch?v=ToXJXK17APQ&ab_channel=BenLebovitz"
   ]
  },
  {
   "cell_type": "markdown",
   "metadata": {},
   "source": []
  }
 ],
 "metadata": {
  "language_info": {
   "name": "python"
  }
 },
 "nbformat": 4,
 "nbformat_minor": 2
}
