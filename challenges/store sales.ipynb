{
 "cells": [
  {
   "cell_type": "markdown",
   "metadata": {},
   "source": [
    "Based on"
   ]
  },
  {
   "cell_type": "code",
   "execution_count": null,
   "metadata": {},
   "outputs": [],
   "source": [
    "https://www.kaggle.com/learn/time-series\n",
    "https://www.youtube.com/watch?v=vV12dGe_Fho&ab_channel=RobMulla\n",
    "https://www.youtube.com/watch?v=95l9qkPulFA&ab_channel=YanAITalk\n",
    "https://www.youtube.com/watch?v=ToXJXK17APQ&ab_channel=BenLebovitz"
   ]
  },
  {
   "cell_type": "markdown",
   "metadata": {},
   "source": []
  }
 ],
 "metadata": {
  "language_info": {
   "name": "python"
  }
 },
 "nbformat": 4,
 "nbformat_minor": 2
}
