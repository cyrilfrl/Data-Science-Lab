{
 "cells": [
  {
   "cell_type": "markdown",
   "metadata": {},
   "source": [
    "Based on: //#//"
   ]
  },
  {
   "cell_type": "markdown",
   "metadata": {},
   "source": [
    "As a novice in applied data science, I believe that learning from peers is crucial. However, it is even more essential to acknowledge and cite the individuals and sources that have influenced my journey. Below are the references for the current notebook: <br>"
   ]
  },
  {
   "cell_type": "markdown",
   "metadata": {},
   "source": [
    "# Modules Import"
   ]
  },
  {
   "cell_type": "code",
   "execution_count": 2,
   "metadata": {},
   "outputs": [],
   "source": [
    "import tensorflow as tf\n",
    "import os\n",
    "import cv2"
   ]
  },
  {
   "cell_type": "code",
   "execution_count": 12,
   "metadata": {},
   "outputs": [
    {
     "name": "stdout",
     "output_type": "stream",
     "text": [
      "[[[235 235 235]\n",
      "  [228 228 228]\n",
      "  [146 146 146]\n",
      "  ...\n",
      "  [ 33  33  33]\n",
      "  [122 122 122]\n",
      "  [184 184 184]]\n",
      "\n",
      " [[238 238 238]\n",
      "  [217 217 217]\n",
      "  [ 89  89  89]\n",
      "  ...\n",
      "  [ 39  39  39]\n",
      "  [ 79  79  79]\n",
      "  [160 160 160]]\n",
      "\n",
      " [[240 240 240]\n",
      "  [185 185 185]\n",
      "  [ 51  51  51]\n",
      "  ...\n",
      "  [ 24  24  24]\n",
      "  [ 80  80  80]\n",
      "  [159 159 159]]\n",
      "\n",
      " ...\n",
      "\n",
      " [[245 245 245]\n",
      "  [239 239 239]\n",
      "  [238 238 238]\n",
      "  ...\n",
      "  [250 250 250]\n",
      "  [252 252 252]\n",
      "  [251 251 251]]\n",
      "\n",
      " [[245 245 245]\n",
      "  [243 243 243]\n",
      "  [238 238 238]\n",
      "  ...\n",
      "  [250 250 250]\n",
      "  [252 252 252]\n",
      "  [251 251 251]]\n",
      "\n",
      " [[247 247 247]\n",
      "  [242 242 242]\n",
      "  [241 241 241]\n",
      "  ...\n",
      "  [250 250 250]\n",
      "  [252 252 252]\n",
      "  [251 251 251]]]\n"
     ]
    }
   ],
   "source": [
    "file_path = '..\\\\..\\\\datasets\\\\facial expression\\\\test\\\\anger\\\\5586202.png'\n",
    "img = cv2.imread(os.path.join(file_path)) #//# read image using cv2\n",
    "print(img)"
   ]
  },
  {
   "cell_type": "code",
   "execution_count": 13,
   "metadata": {},
   "outputs": [
    {
     "data": {
      "text/plain": [
       "<matplotlib.image.AxesImage at 0x1d0a8b4eea0>"
      ]
     },
     "execution_count": 13,
     "metadata": {},
     "output_type": "execute_result"
    },
    {
     "data": {
      "image/png": "[encoded data removed]",
      "text/plain": [
       "<Figure size 640x480 with 1 Axes>"
      ]
     },
     "metadata": {},
     "output_type": "display_data"
    }
   ],
   "source": [
    "#//# display colored image in matplotlib\n",
    "import matplotlib.pyplot as plt\n",
    "\n",
    "plt.imshow(img) #//#"
   ]
  },
  {
   "cell_type": "code",
   "execution_count": null,
   "metadata": {},
   "outputs": [],
   "source": [
    "#//# load data\n",
    "data = tf.keras.utils.image_dataset_from_directory('..\\\\..\\\\')"
   ]
  }
 ],
 "metadata": {
  "kernelspec": {
   "display_name": "Python 3",
   "language": "python",
   "name": "python3"
  },
  "language_info": {
   "codemirror_mode": {
    "name": "ipython",
    "version": 3
   },
   "file_extension": ".py",
   "mimetype": "text/x-python",
   "name": "python",
   "nbconvert_exporter": "python",
   "pygments_lexer": "ipython3",
   "version": "3.12.4"
  }
 },
 "nbformat": 4,
 "nbformat_minor": 2
}
